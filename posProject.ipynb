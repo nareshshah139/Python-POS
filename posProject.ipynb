{
 "cells": [
  {
   "cell_type": "code",
   "execution_count": 22,
   "metadata": {
    "collapsed": false
   },
   "outputs": [
    {
     "data": {
      "text/plain": [
       "30.0"
      ]
     },
     "execution_count": 22,
     "metadata": {},
     "output_type": "execute_result"
    }
   ],
   "source": [
    "userinput = \"Sales 30 CC SKU:1234alpha ID:alfanum9\"\n",
    "inputList = userinput.split()\n",
    "\n",
    "def thisisafunction(inputList): \n",
    "    for element in inputList:\n",
    "        try:\n",
    "            saleAMT = float(element)\n",
    "            return saleAMT\n",
    "        except:\n",
    "            pass\n",
    "\n",
    "thisisafunction(inputList)   \n"
   ]
  },
  {
   "cell_type": "code",
   "execution_count": 28,
   "metadata": {
    "collapsed": false
   },
   "outputs": [
    {
     "data": {
      "text/plain": [
       "30.0"
      ]
     },
     "execution_count": 28,
     "metadata": {},
     "output_type": "execute_result"
    }
   ],
   "source": [
    "# checks if it's less than 8 digits 0000.00\n",
    "\n",
    "userinput = \"Sales 30 CC SKU:1234alpha ID:alfanum9\"\n",
    "inputList = userinput.split()\n",
    "\n",
    "def thisisafunction(inputList): \n",
    "    for element in inputList:\n",
    "        try:\n",
    "            saleAMT = float(element)\n",
    "            if saleAMT < 10000:\n",
    "                return saleAMT\n",
    "            else:\n",
    "                pass\n",
    "        except:\n",
    "            pass\n",
    "\n",
    "thisisafunction(inputList)   \n"
   ]
  },
  {
   "cell_type": "code",
   "execution_count": 51,
   "metadata": {
    "collapsed": false
   },
   "outputs": [
    {
     "data": {
      "text/plain": [
       "{2: 3, 5: 6}"
      ]
     },
     "execution_count": 51,
     "metadata": {},
     "output_type": "execute_result"
    }
   ],
   "source": [
    "# test report function\n",
    "dSales = {2:[3], 5:[4,2]}\n",
    "dCustSales = {}\n",
    "\n",
    "'''\n",
    "2, 3\n",
    "5, 6\n",
    "'''\n",
    "\n",
    "def report():\n",
    "    totCust = 0\n",
    "    for key, value in dSales.items():\n",
    "        purchase = value\n",
    "        totCust = sum(purchase)\n",
    "        dCustSales.update({key:totCust})\n",
    "    return dCustSales\n",
    "\n",
    "report()"
   ]
  },
  {
   "cell_type": "code",
   "execution_count": null,
   "metadata": {
    "collapsed": true
   },
   "outputs": [],
   "source": []
  },
  {
   "cell_type": "code",
   "execution_count": null,
   "metadata": {
    "collapsed": true
   },
   "outputs": [],
   "source": []
  },
  {
   "cell_type": "code",
   "execution_count": null,
   "metadata": {
    "collapsed": true
   },
   "outputs": [],
   "source": []
  }
 ],
 "metadata": {
  "kernelspec": {
   "display_name": "Python 3",
   "language": "python",
   "name": "python3"
  },
  "language_info": {
   "codemirror_mode": {
    "name": "ipython",
    "version": 3
   },
   "file_extension": ".py",
   "mimetype": "text/x-python",
   "name": "python",
   "nbconvert_exporter": "python",
   "pygments_lexer": "ipython3",
   "version": "3.5.1"
  }
 },
 "nbformat": 4,
 "nbformat_minor": 0
}
